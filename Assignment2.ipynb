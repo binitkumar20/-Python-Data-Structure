{
  "nbformat": 4,
  "nbformat_minor": 0,
  "metadata": {
    "colab": {
      "provenance": []
    },
    "kernelspec": {
      "name": "python3",
      "display_name": "Python 3"
    },
    "language_info": {
      "name": "python"
    }
  },
  "cells": [
    {
      "cell_type": "markdown",
      "source": [
        " 1. Write a code to create a string with your name and print it"
      ],
      "metadata": {
        "id": "HVk0eNE8fqjt"
      }
    },
    {
      "cell_type": "code",
      "execution_count": null,
      "metadata": {
        "colab": {
          "base_uri": "https://localhost:8080/"
        },
        "id": "iDW6yqNFfk0X",
        "outputId": "e7d042f0-966c-4305-96ed-c327e5b48bd2"
      },
      "outputs": [
        {
          "output_type": "stream",
          "name": "stdout",
          "text": [
            "Binit Kumar Choudhary\n"
          ]
        }
      ],
      "source": [
        "str1=\"Binit Kumar Choudhary\"\n",
        "print(str1)"
      ]
    },
    {
      "cell_type": "markdown",
      "source": [
        "2. Write a code to find the length of the string \"Hello World\"."
      ],
      "metadata": {
        "id": "WuCvRWMPgMkw"
      }
    },
    {
      "cell_type": "code",
      "source": [
        "str2=\"Hello World\"\n",
        "print(f\"String : {str2}\\nLength of the given string : {len(str2)} \")"
      ],
      "metadata": {
        "colab": {
          "base_uri": "https://localhost:8080/"
        },
        "id": "ciLkTdaDgVZ7",
        "outputId": "41eac383-0850-4144-c478-6950bb37f203"
      },
      "execution_count": null,
      "outputs": [
        {
          "output_type": "stream",
          "name": "stdout",
          "text": [
            "String : Hello World\n",
            "Length of the given string : 11 \n"
          ]
        }
      ]
    },
    {
      "cell_type": "markdown",
      "source": [
        " 3. Write a code to slice the first 3 characters from the string \"Python Programming\""
      ],
      "metadata": {
        "id": "4LXEUvPchRvy"
      }
    },
    {
      "cell_type": "code",
      "source": [
        "a=\"Python Programming\"\n",
        "b=a[0:3]\n",
        "print(\"Sliced String : \", b)\n"
      ],
      "metadata": {
        "colab": {
          "base_uri": "https://localhost:8080/"
        },
        "id": "ftSQ1sbhhX7c",
        "outputId": "be1fa718-07be-4b7d-e172-6acf171a4398"
      },
      "execution_count": null,
      "outputs": [
        {
          "output_type": "stream",
          "name": "stdout",
          "text": [
            "Sliced String :  Pyt\n"
          ]
        }
      ]
    },
    {
      "cell_type": "markdown",
      "source": [
        "4. Write a code to convert the string \"hello\" to uppercase."
      ],
      "metadata": {
        "id": "kxaBZ4GdiP-p"
      }
    },
    {
      "cell_type": "code",
      "source": [
        "a=\"hello\"\n",
        "b=a.upper()\n",
        "print(b)"
      ],
      "metadata": {
        "colab": {
          "base_uri": "https://localhost:8080/"
        },
        "id": "FvRE561EiVky",
        "outputId": "53b83cb6-cde5-4e3c-a994-ccdd9dc2a6b4"
      },
      "execution_count": null,
      "outputs": [
        {
          "output_type": "stream",
          "name": "stdout",
          "text": [
            "HELLO\n"
          ]
        }
      ]
    },
    {
      "cell_type": "markdown",
      "source": [
        "5.  Write a code to replace the word \"apple\" with \"orange\" in the string \"I like apple\"."
      ],
      "metadata": {
        "id": "Tp42nYR4i2Na"
      }
    },
    {
      "cell_type": "code",
      "source": [
        "str1= \"I like apple\"\n",
        "str2=str1.replace(\"apple\",\"orange\")\n",
        "print(f\"String : {str1}\\n Updated String : {str2}\")"
      ],
      "metadata": {
        "colab": {
          "base_uri": "https://localhost:8080/"
        },
        "id": "V5VMViJ7jABi",
        "outputId": "881429c6-65a3-478d-ff76-609465821ca1"
      },
      "execution_count": null,
      "outputs": [
        {
          "output_type": "stream",
          "name": "stdout",
          "text": [
            "String : I like apple\n",
            " Updated String : I like orange\n"
          ]
        }
      ]
    },
    {
      "cell_type": "markdown",
      "source": [
        "6. Write a code to create a list with numbers 1 to 5 and print it."
      ],
      "metadata": {
        "id": "5ZiIRYTzjqK5"
      }
    },
    {
      "cell_type": "code",
      "source": [
        "num = list(range(1, 6))\n",
        "print(num)"
      ],
      "metadata": {
        "colab": {
          "base_uri": "https://localhost:8080/"
        },
        "id": "RcQQgifDjzC3",
        "outputId": "d418f064-08b3-4da5-ce66-495e189c0017"
      },
      "execution_count": null,
      "outputs": [
        {
          "output_type": "stream",
          "name": "stdout",
          "text": [
            "[1, 2, 3, 4, 5]\n"
          ]
        }
      ]
    },
    {
      "cell_type": "markdown",
      "source": [
        "7.  Write a code to append the number 10 to the list [1, 2, 3, 4]"
      ],
      "metadata": {
        "id": "eJ5lzJ0zkJ40"
      }
    },
    {
      "cell_type": "code",
      "source": [
        "bk=[1, 2, 3, 4]\n",
        "bk.append(10)\n",
        "print(bk)"
      ],
      "metadata": {
        "colab": {
          "base_uri": "https://localhost:8080/"
        },
        "id": "XvDskiwNkQ9m",
        "outputId": "d2dfb629-797a-47b5-b027-815d7a9ab843"
      },
      "execution_count": null,
      "outputs": [
        {
          "output_type": "stream",
          "name": "stdout",
          "text": [
            "[1, 2, 3, 4, 10]\n"
          ]
        }
      ]
    },
    {
      "cell_type": "markdown",
      "source": [
        " 8. Write a code to remove the number 3 from the list [1, 2, 3, 4, 5]"
      ],
      "metadata": {
        "id": "rN0ubpoBkpqZ"
      }
    },
    {
      "cell_type": "code",
      "source": [
        "bk=[1, 2, 3, 4, 5]\n",
        "bk.remove(3)\n",
        "print(bk)"
      ],
      "metadata": {
        "colab": {
          "base_uri": "https://localhost:8080/"
        },
        "id": "mvx8-pbHknCP",
        "outputId": "c200b8ec-cd02-4876-9c2a-be64d71e55f8"
      },
      "execution_count": null,
      "outputs": [
        {
          "output_type": "stream",
          "name": "stdout",
          "text": [
            "[1, 2, 4, 5]\n"
          ]
        }
      ]
    },
    {
      "cell_type": "markdown",
      "source": [
        "9.  Write a code to access the second element in the list ['a', 'b', 'c', 'd']"
      ],
      "metadata": {
        "id": "xvQQgF7Gk9ku"
      }
    },
    {
      "cell_type": "code",
      "source": [
        "bk=['a', 'b', 'c', 'd']\n",
        "bk[1]"
      ],
      "metadata": {
        "colab": {
          "base_uri": "https://localhost:8080/",
          "height": 35
        },
        "id": "Z1I9CudtlDRC",
        "outputId": "965d0ae6-fb28-48f7-ce57-2c5e827b2ac7"
      },
      "execution_count": null,
      "outputs": [
        {
          "output_type": "execute_result",
          "data": {
            "text/plain": [
              "'b'"
            ],
            "application/vnd.google.colaboratory.intrinsic+json": {
              "type": "string"
            }
          },
          "metadata": {},
          "execution_count": 43
        }
      ]
    },
    {
      "cell_type": "markdown",
      "source": [
        "10. Write a code to reverse the list [10, 20, 30, 40, 50]."
      ],
      "metadata": {
        "id": "1aYh_A6zmaE_"
      }
    },
    {
      "cell_type": "code",
      "source": [
        "a=[10, 20, 30, 40, 50]\n",
        "a.reverse()\n",
        "print(a)"
      ],
      "metadata": {
        "colab": {
          "base_uri": "https://localhost:8080/"
        },
        "id": "Zdl24KfqmwPY",
        "outputId": "a9da3d5d-6167-47c1-e75b-ee3e15875260"
      },
      "execution_count": 4,
      "outputs": [
        {
          "output_type": "stream",
          "name": "stdout",
          "text": [
            "[50, 40, 30, 20, 10]\n"
          ]
        }
      ]
    },
    {
      "cell_type": "markdown",
      "source": [
        "11. Write a code to create a tuple with the elements 100, 200, 300 and print it."
      ],
      "metadata": {
        "id": "CBg5jedKlXda"
      }
    },
    {
      "cell_type": "code",
      "source": [
        "tup1=(100,200,300)\n",
        "print(tup1)\n",
        "type(tup1)"
      ],
      "metadata": {
        "id": "Z59g6btilYuc",
        "colab": {
          "base_uri": "https://localhost:8080/"
        },
        "outputId": "008c99f0-a632-4129-de43-b7ba46ecb512"
      },
      "execution_count": 5,
      "outputs": [
        {
          "output_type": "stream",
          "name": "stdout",
          "text": [
            "(100, 200, 300)\n"
          ]
        },
        {
          "output_type": "execute_result",
          "data": {
            "text/plain": [
              "tuple"
            ]
          },
          "metadata": {},
          "execution_count": 5
        }
      ]
    },
    {
      "cell_type": "markdown",
      "source": [
        " 12. Write a code to access the second-to-last element of the tuple ('red', 'green', 'blue', 'yellow')."
      ],
      "metadata": {
        "id": "il4m302cm_Ge"
      }
    },
    {
      "cell_type": "code",
      "source": [
        "a= ('red', 'green', 'blue', 'yellow')\n",
        "a[1:]"
      ],
      "metadata": {
        "colab": {
          "base_uri": "https://localhost:8080/"
        },
        "id": "Z6EO89WenFaN",
        "outputId": "904eac64-5e72-4258-bdfa-b01e92342f60"
      },
      "execution_count": 7,
      "outputs": [
        {
          "output_type": "execute_result",
          "data": {
            "text/plain": [
              "('green', 'blue', 'yellow')"
            ]
          },
          "metadata": {},
          "execution_count": 7
        }
      ]
    },
    {
      "cell_type": "markdown",
      "source": [
        " 13. Write a code to find the minimum number in the tuple (10, 20, 5, 15)."
      ],
      "metadata": {
        "id": "7EDhrxRQnUWL"
      }
    },
    {
      "cell_type": "code",
      "source": [
        "a=(10, 20, 5, 15)\n",
        "min(a)"
      ],
      "metadata": {
        "colab": {
          "base_uri": "https://localhost:8080/"
        },
        "id": "en03DH0ZnX7r",
        "outputId": "59e5da4f-d89b-4f7b-8cc2-335bbf25c590"
      },
      "execution_count": 10,
      "outputs": [
        {
          "output_type": "execute_result",
          "data": {
            "text/plain": [
              "5"
            ]
          },
          "metadata": {},
          "execution_count": 10
        }
      ]
    },
    {
      "cell_type": "markdown",
      "source": [
        " 14. Write a code to find the index of the element \"cat\" in the tuple ('dog', 'cat', 'rabbit')."
      ],
      "metadata": {
        "id": "JIEgvD4nn1X_"
      }
    },
    {
      "cell_type": "code",
      "source": [
        "a=('dog', 'cat', 'rabbit')\n",
        "a.index('cat')"
      ],
      "metadata": {
        "colab": {
          "base_uri": "https://localhost:8080/"
        },
        "id": "_ZRwZxnrn74e",
        "outputId": "fbf526f0-1bdc-4e81-fdf5-c7878d076f89"
      },
      "execution_count": 11,
      "outputs": [
        {
          "output_type": "execute_result",
          "data": {
            "text/plain": [
              "1"
            ]
          },
          "metadata": {},
          "execution_count": 11
        }
      ]
    },
    {
      "cell_type": "markdown",
      "source": [
        " 15. Write a code to create a tuple containing three different fruits and check if \"kiwi\" is in it."
      ],
      "metadata": {
        "id": "5SIWMSR-oHRX"
      }
    },
    {
      "cell_type": "code",
      "source": [
        "a=('Orange','Guava', 'Pinapple')\n",
        "k='Kiwi'\n",
        "if k in a :\n",
        "    print(\"Kiwi is Present in the tuple.\")\n",
        "else :\n",
        "    print(\"Kiwi is not Present in the tuple\")"
      ],
      "metadata": {
        "colab": {
          "base_uri": "https://localhost:8080/"
        },
        "id": "PtPnW4uToPa7",
        "outputId": "29b2b3e8-44be-4ad9-88da-dc3820026e97"
      },
      "execution_count": 20,
      "outputs": [
        {
          "output_type": "stream",
          "name": "stdout",
          "text": [
            "Kiwi is not Present in the tuple\n"
          ]
        }
      ]
    },
    {
      "cell_type": "markdown",
      "source": [
        " 16. Write a code to create a set with the elements 'a', 'b', 'c' and print it."
      ],
      "metadata": {
        "id": "s7wCuMi-p4WO"
      }
    },
    {
      "cell_type": "code",
      "source": [
        "a={ 'a', 'b', 'c'}\n",
        "print(a)\n",
        "type(a)"
      ],
      "metadata": {
        "colab": {
          "base_uri": "https://localhost:8080/"
        },
        "id": "ukxciT_rp5Qy",
        "outputId": "ba042c41-c627-414f-b82d-2f6d25c11d11"
      },
      "execution_count": 28,
      "outputs": [
        {
          "output_type": "stream",
          "name": "stdout",
          "text": [
            "{'c', 'b', 'a'}\n"
          ]
        },
        {
          "output_type": "execute_result",
          "data": {
            "text/plain": [
              "set"
            ]
          },
          "metadata": {},
          "execution_count": 28
        }
      ]
    },
    {
      "cell_type": "markdown",
      "source": [
        "17. Write a code to clear all elements from the set {1, 2, 3, 4, 5}."
      ],
      "metadata": {
        "id": "g6c0oLr1r1QF"
      }
    },
    {
      "cell_type": "code",
      "source": [
        "a={1, 2, 3, 4, 5}\n",
        "a.clear()\n",
        "a"
      ],
      "metadata": {
        "colab": {
          "base_uri": "https://localhost:8080/"
        },
        "id": "wNil5HRBr8nY",
        "outputId": "7caa068a-eb7c-4024-aa7c-8aa61393e75d"
      },
      "execution_count": 31,
      "outputs": [
        {
          "output_type": "execute_result",
          "data": {
            "text/plain": [
              "set()"
            ]
          },
          "metadata": {},
          "execution_count": 31
        }
      ]
    },
    {
      "cell_type": "markdown",
      "source": [
        "18. Write a code to remove the element 4 from the set {1, 2, 3, 4}."
      ],
      "metadata": {
        "id": "S1mbrlygsJxp"
      }
    },
    {
      "cell_type": "code",
      "source": [
        "a={1, 2, 3, 4}\n",
        "a.remove(4)\n",
        "print(a)"
      ],
      "metadata": {
        "colab": {
          "base_uri": "https://localhost:8080/"
        },
        "id": "cNyVG9ausP9O",
        "outputId": "094bf570-7312-47eb-85c2-9ab4a7ca7a1c"
      },
      "execution_count": 34,
      "outputs": [
        {
          "output_type": "stream",
          "name": "stdout",
          "text": [
            "{1, 2, 3}\n"
          ]
        }
      ]
    },
    {
      "cell_type": "markdown",
      "source": [
        " 19. Write a code to find the union of two sets {1, 2, 3} and {3, 4, 5}."
      ],
      "metadata": {
        "id": "oJownLG_sc7o"
      }
    },
    {
      "cell_type": "code",
      "source": [
        "a={1, 2, 3}\n",
        "b={3, 4, 5}\n",
        "a|b"
      ],
      "metadata": {
        "colab": {
          "base_uri": "https://localhost:8080/"
        },
        "id": "m4V-PWNOsk0m",
        "outputId": "bbbddf80-04c6-42cd-bfe3-0cdd59122470"
      },
      "execution_count": 35,
      "outputs": [
        {
          "output_type": "execute_result",
          "data": {
            "text/plain": [
              "{1, 2, 3, 4, 5}"
            ]
          },
          "metadata": {},
          "execution_count": 35
        }
      ]
    },
    {
      "cell_type": "markdown",
      "source": [
        "20. Write a code to find the intersection of two sets {1, 2, 3} and {2, 3, 4}."
      ],
      "metadata": {
        "id": "E7fhIrR0wdhH"
      }
    },
    {
      "cell_type": "code",
      "source": [
        "a={1, 2, 3}\n",
        "b={2, 3, 4}\n",
        "a&b"
      ],
      "metadata": {
        "colab": {
          "base_uri": "https://localhost:8080/"
        },
        "id": "jW_XMjOkwi0z",
        "outputId": "3f541940-4fa9-4c8a-efb4-876bae52b4e7"
      },
      "execution_count": 36,
      "outputs": [
        {
          "output_type": "execute_result",
          "data": {
            "text/plain": [
              "{2, 3}"
            ]
          },
          "metadata": {},
          "execution_count": 36
        }
      ]
    },
    {
      "cell_type": "markdown",
      "source": [
        " 21. Write a code to create a dictionary with the keys \"name\", \"age\", and \"city\", and print it."
      ],
      "metadata": {
        "id": "wNR2M9yVwsvU"
      }
    },
    {
      "cell_type": "code",
      "source": [
        "dt={\"name\":\"Binit\", \"age\":22, \"city\":\"Kolkata\"}\n",
        "print(dt)\n",
        "type(dt)"
      ],
      "metadata": {
        "colab": {
          "base_uri": "https://localhost:8080/"
        },
        "id": "12qcEwU9wwEY",
        "outputId": "78a64cde-862b-4434-f598-b56193c7ee72"
      },
      "execution_count": 53,
      "outputs": [
        {
          "output_type": "stream",
          "name": "stdout",
          "text": [
            "{'name': 'Binit', 'age': 22, 'city': 'Kolkata'}\n"
          ]
        },
        {
          "output_type": "execute_result",
          "data": {
            "text/plain": [
              "dict"
            ]
          },
          "metadata": {},
          "execution_count": 53
        }
      ]
    },
    {
      "cell_type": "markdown",
      "source": [
        "22. Write a code to add a new key-value pair \"country\": \"USA\" to the dictionary {'name': 'John', 'age': 25}."
      ],
      "metadata": {
        "id": "AMMQK-xiwwaw"
      }
    },
    {
      "cell_type": "code",
      "source": [
        "a={'name': 'John', 'age': 25}\n",
        "a[\"country\"]= \"USA\"\n",
        "a"
      ],
      "metadata": {
        "colab": {
          "base_uri": "https://localhost:8080/"
        },
        "id": "_Lz7Ir3bw1O_",
        "outputId": "0124b592-e1cd-49cf-f58f-f2fd1afd6957"
      },
      "execution_count": 63,
      "outputs": [
        {
          "output_type": "execute_result",
          "data": {
            "text/plain": [
              "{'name': 'John', 'age': 25, 'country': 'USA'}"
            ]
          },
          "metadata": {},
          "execution_count": 63
        }
      ]
    },
    {
      "cell_type": "markdown",
      "source": [
        " 23. Write a code to access the value associated with the key \"name\" in the dictionary {'name': 'Alice', 'age': 30}."
      ],
      "metadata": {
        "id": "qO31HEBDxEoU"
      }
    },
    {
      "cell_type": "code",
      "source": [
        "a={'name': 'Alice', 'age': 30}\n",
        "a[\"name\"]"
      ],
      "metadata": {
        "colab": {
          "base_uri": "https://localhost:8080/",
          "height": 35
        },
        "id": "Qt10I0sxxE91",
        "outputId": "be0becf1-f1ed-4be9-e5fe-e97a4d161f2d"
      },
      "execution_count": 64,
      "outputs": [
        {
          "output_type": "execute_result",
          "data": {
            "text/plain": [
              "'Alice'"
            ],
            "application/vnd.google.colaboratory.intrinsic+json": {
              "type": "string"
            }
          },
          "metadata": {},
          "execution_count": 64
        }
      ]
    },
    {
      "cell_type": "markdown",
      "source": [
        " 24. Write a code to remove the key \"age\" from the dictionary {'name': 'Bob', 'age': 22, 'city': 'New York'}."
      ],
      "metadata": {
        "id": "1wWUJPtrzZu9"
      }
    },
    {
      "cell_type": "code",
      "source": [
        "a={'name': 'Bob', 'age': 22, 'city': 'New York'}\n",
        "del a['age']\n",
        "a"
      ],
      "metadata": {
        "colab": {
          "base_uri": "https://localhost:8080/"
        },
        "id": "8OFVjdjczaE3",
        "outputId": "3a6f400b-947e-4b24-d0ea-a12c9fc6faf3"
      },
      "execution_count": 68,
      "outputs": [
        {
          "output_type": "execute_result",
          "data": {
            "text/plain": [
              "{'name': 'Bob', 'city': 'New York'}"
            ]
          },
          "metadata": {},
          "execution_count": 68
        }
      ]
    },
    {
      "cell_type": "markdown",
      "source": [
        " 25. Write a code to check if the key \"city\" exists in the dictionary {'name': 'Alice', 'city': 'Paris'}."
      ],
      "metadata": {
        "id": "M6MHlaLLzb0l"
      }
    },
    {
      "cell_type": "code",
      "source": [
        "a= {'name': 'Alice', 'city': 'Paris'}\n",
        "i=1\n",
        "if 'city' in a:\n",
        "  print(\"yes It is present as a key in the Dictionary\")\n",
        "else:\n",
        "        print(\"It is not a key \")"
      ],
      "metadata": {
        "colab": {
          "base_uri": "https://localhost:8080/"
        },
        "id": "XSkKKOARzcE6",
        "outputId": "d9bdb19c-ac3f-4b9a-f090-7b5304050f42"
      },
      "execution_count": 80,
      "outputs": [
        {
          "output_type": "stream",
          "name": "stdout",
          "text": [
            "yes It is present as a key in the Dictionary\n"
          ]
        }
      ]
    },
    {
      "cell_type": "markdown",
      "source": [
        " 26. Write a code to create a list, a tuple, and a dictionary, and print them all."
      ],
      "metadata": {
        "id": "-pPM5VR8zM0T"
      }
    },
    {
      "cell_type": "code",
      "source": [
        "list1=[1,2,'good','bad']\n",
        "tup={1,8,'a','d'}\n",
        "dic1={\"name\":\"Binit\",\"age\":22 ,\"city\":\"Kolkata\"}\n",
        "print(f\"LIST : {list1}\\nTupple : {tup}\\nDictionary : {dic1}\" )"
      ],
      "metadata": {
        "colab": {
          "base_uri": "https://localhost:8080/"
        },
        "id": "EeQq90bDzNDs",
        "outputId": "9b441ca8-5722-4c32-aeb0-4309c6799785"
      },
      "execution_count": 61,
      "outputs": [
        {
          "output_type": "stream",
          "name": "stdout",
          "text": [
            "LIST : [1, 2, 'good', 'bad']\n",
            "Tupple : {8, 1, 'd', 'a'}\n",
            "Dictionary : {'name': 'Binit', 'age': 22, 'city': 'Kolkata'}\n"
          ]
        }
      ]
    },
    {
      "cell_type": "markdown",
      "source": [
        "27. Write a code to create a list of 5 random numbers between 1 and 100, sort it in ascending order, and print the result.(replaced)"
      ],
      "metadata": {
        "id": "LdNK_WimxFhU"
      }
    },
    {
      "cell_type": "code",
      "source": [
        "a=[13,68,57,5,42]\n",
        "a.sort()\n",
        "print(a)"
      ],
      "metadata": {
        "colab": {
          "base_uri": "https://localhost:8080/"
        },
        "id": "XIqI0dx0xFuv",
        "outputId": "093a3d30-9bd6-4b22-8329-0281affc1cd3"
      },
      "execution_count": 50,
      "outputs": [
        {
          "output_type": "stream",
          "name": "stdout",
          "text": [
            "[5, 13, 42, 57, 68]\n"
          ]
        }
      ]
    },
    {
      "cell_type": "markdown",
      "source": [
        "28. Write a code to create a list with strings and print the element at the third index."
      ],
      "metadata": {
        "id": "cay04TzdxF7W"
      }
    },
    {
      "cell_type": "code",
      "source": [
        "a=['Queen','King','Ace','Jocker']\n",
        "print(a[2])"
      ],
      "metadata": {
        "colab": {
          "base_uri": "https://localhost:8080/"
        },
        "id": "0OLETerYxGGy",
        "outputId": "d7b51187-b702-402d-caef-cdab152960c4"
      },
      "execution_count": 47,
      "outputs": [
        {
          "output_type": "stream",
          "name": "stdout",
          "text": [
            "Ace\n"
          ]
        }
      ]
    },
    {
      "cell_type": "markdown",
      "source": [
        "29. Write a code to combine two dictionaries into one and print the result."
      ],
      "metadata": {
        "id": "LADpsHXOx9nH"
      }
    },
    {
      "cell_type": "code",
      "source": [
        "a={'name': 'Bob', 'age': 22, 'city': 'New York'}\n",
        "b={\"grade\":\"A+\", \"roll\":56}\n",
        "a.update(b)\n",
        "print(a)\n"
      ],
      "metadata": {
        "colab": {
          "base_uri": "https://localhost:8080/"
        },
        "id": "Spk8JKMVyBdV",
        "outputId": "e872cf2d-3288-4876-9ec4-e0d8891eaf3d"
      },
      "execution_count": 84,
      "outputs": [
        {
          "output_type": "stream",
          "name": "stdout",
          "text": [
            "{'name': 'Bob', 'age': 22, 'city': 'New York', 'grade': 'A+', 'roll': 56}\n"
          ]
        }
      ]
    },
    {
      "cell_type": "markdown",
      "source": [
        " 30. Write a code to convert a list of strings into a set."
      ],
      "metadata": {
        "id": "hi3HIVNQxHAE"
      }
    },
    {
      "cell_type": "code",
      "source": [
        "list1=['Queen','King','Ace','Jocker']\n",
        "s=set(list1)\n",
        "print(s)\n",
        "type(s)"
      ],
      "metadata": {
        "colab": {
          "base_uri": "https://localhost:8080/"
        },
        "id": "ZILG-akXxHvj",
        "outputId": "8111ff6d-ff9f-43b5-f632-ea7635aa5ac0"
      },
      "execution_count": 45,
      "outputs": [
        {
          "output_type": "stream",
          "name": "stdout",
          "text": [
            "{'Ace', 'King', 'Jocker', 'Queen'}\n"
          ]
        },
        {
          "output_type": "execute_result",
          "data": {
            "text/plain": [
              "set"
            ]
          },
          "metadata": {},
          "execution_count": 45
        }
      ]
    }
  ]
}